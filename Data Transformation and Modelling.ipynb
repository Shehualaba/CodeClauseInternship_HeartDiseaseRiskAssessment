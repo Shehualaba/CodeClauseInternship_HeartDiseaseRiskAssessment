{
 "cells": [
  {
   "cell_type": "markdown",
   "metadata": {},
   "source": [
    "## Import Relevant Libraries"
   ]
  },
  {
   "cell_type": "code",
   "execution_count": 59,
   "metadata": {},
   "outputs": [],
   "source": [
    "import pandas as pd\n",
    "import numpy as np\n",
    "import seaborn as sns\n",
    "import matplotlib.pyplot as plt\n",
    "from sklearn.model_selection import train_test_split\n",
    "from sklearn.compose import ColumnTransformer\n",
    "from sklearn.preprocessing import StandardScaler, LabelEncoder, OneHotEncoder, OrdinalEncoder\n",
    "from sklearn.pipeline import Pipeline\n",
    "from sklearn.metrics import accuracy_score, classification_report, confusion_matrix"
   ]
  },
  {
   "cell_type": "code",
   "execution_count": 60,
   "metadata": {},
   "outputs": [
    {
     "data": {
      "text/html": [
       "<div>\n",
       "<style scoped>\n",
       "    .dataframe tbody tr th:only-of-type {\n",
       "        vertical-align: middle;\n",
       "    }\n",
       "\n",
       "    .dataframe tbody tr th {\n",
       "        vertical-align: top;\n",
       "    }\n",
       "\n",
       "    .dataframe thead th {\n",
       "        text-align: right;\n",
       "    }\n",
       "</style>\n",
       "<table border=\"1\" class=\"dataframe\">\n",
       "  <thead>\n",
       "    <tr style=\"text-align: right;\">\n",
       "      <th></th>\n",
       "      <th>Age</th>\n",
       "      <th>Sex</th>\n",
       "      <th>ChestPainType</th>\n",
       "      <th>RestingBP</th>\n",
       "      <th>Cholesterol</th>\n",
       "      <th>FastingBS</th>\n",
       "      <th>RestingECG</th>\n",
       "      <th>MaxHR</th>\n",
       "      <th>ExerciseAngina</th>\n",
       "      <th>Oldpeak</th>\n",
       "      <th>ST_Slope</th>\n",
       "      <th>HeartDisease</th>\n",
       "    </tr>\n",
       "  </thead>\n",
       "  <tbody>\n",
       "    <tr>\n",
       "      <th>0</th>\n",
       "      <td>40</td>\n",
       "      <td>M</td>\n",
       "      <td>ATA</td>\n",
       "      <td>140</td>\n",
       "      <td>289</td>\n",
       "      <td>No</td>\n",
       "      <td>Normal</td>\n",
       "      <td>172</td>\n",
       "      <td>N</td>\n",
       "      <td>0.0</td>\n",
       "      <td>Up</td>\n",
       "      <td>No</td>\n",
       "    </tr>\n",
       "    <tr>\n",
       "      <th>1</th>\n",
       "      <td>49</td>\n",
       "      <td>F</td>\n",
       "      <td>NAP</td>\n",
       "      <td>160</td>\n",
       "      <td>180</td>\n",
       "      <td>No</td>\n",
       "      <td>Normal</td>\n",
       "      <td>156</td>\n",
       "      <td>N</td>\n",
       "      <td>1.0</td>\n",
       "      <td>Flat</td>\n",
       "      <td>Yes</td>\n",
       "    </tr>\n",
       "    <tr>\n",
       "      <th>2</th>\n",
       "      <td>37</td>\n",
       "      <td>M</td>\n",
       "      <td>ATA</td>\n",
       "      <td>130</td>\n",
       "      <td>283</td>\n",
       "      <td>No</td>\n",
       "      <td>ST</td>\n",
       "      <td>98</td>\n",
       "      <td>N</td>\n",
       "      <td>0.0</td>\n",
       "      <td>Up</td>\n",
       "      <td>No</td>\n",
       "    </tr>\n",
       "    <tr>\n",
       "      <th>3</th>\n",
       "      <td>48</td>\n",
       "      <td>F</td>\n",
       "      <td>ASY</td>\n",
       "      <td>138</td>\n",
       "      <td>214</td>\n",
       "      <td>No</td>\n",
       "      <td>Normal</td>\n",
       "      <td>108</td>\n",
       "      <td>Y</td>\n",
       "      <td>1.5</td>\n",
       "      <td>Flat</td>\n",
       "      <td>Yes</td>\n",
       "    </tr>\n",
       "    <tr>\n",
       "      <th>4</th>\n",
       "      <td>54</td>\n",
       "      <td>M</td>\n",
       "      <td>NAP</td>\n",
       "      <td>150</td>\n",
       "      <td>195</td>\n",
       "      <td>No</td>\n",
       "      <td>Normal</td>\n",
       "      <td>122</td>\n",
       "      <td>N</td>\n",
       "      <td>0.0</td>\n",
       "      <td>Up</td>\n",
       "      <td>No</td>\n",
       "    </tr>\n",
       "  </tbody>\n",
       "</table>\n",
       "</div>"
      ],
      "text/plain": [
       "   Age Sex ChestPainType  RestingBP  Cholesterol FastingBS RestingECG  MaxHR  \\\n",
       "0   40   M           ATA        140          289        No     Normal    172   \n",
       "1   49   F           NAP        160          180        No     Normal    156   \n",
       "2   37   M           ATA        130          283        No         ST     98   \n",
       "3   48   F           ASY        138          214        No     Normal    108   \n",
       "4   54   M           NAP        150          195        No     Normal    122   \n",
       "\n",
       "  ExerciseAngina  Oldpeak ST_Slope HeartDisease  \n",
       "0              N      0.0       Up           No  \n",
       "1              N      1.0     Flat          Yes  \n",
       "2              N      0.0       Up           No  \n",
       "3              Y      1.5     Flat          Yes  \n",
       "4              N      0.0       Up           No  "
      ]
     },
     "execution_count": 60,
     "metadata": {},
     "output_type": "execute_result"
    }
   ],
   "source": [
    "# Load the dataset\n",
    "data = pd.read_csv('cleaned_data')\n",
    "# View dataset\n",
    "data.head()"
   ]
  },
  {
   "cell_type": "code",
   "execution_count": 61,
   "metadata": {},
   "outputs": [],
   "source": [
    "# Split Data into Feature and Target\n",
    "features = data.drop('HeartDisease', axis=1)\n",
    "target = data['HeartDisease']"
   ]
  },
  {
   "cell_type": "code",
   "execution_count": null,
   "metadata": {},
   "outputs": [],
   "source": [
    "# Split dataset into train and test set\n",
    "feature_train, feature_test, target_train, target_test = train_test_split(feature,target, test_size=0.2, stratify=target)"
   ]
  },
  {
   "cell_type": "markdown",
   "metadata": {},
   "source": [
    "## Data Transformation"
   ]
  },
  {
   "cell_type": "code",
   "execution_count": 63,
   "metadata": {},
   "outputs": [
    {
     "data": {
      "text/plain": [
       "['Age', 'RestingBP', 'Cholesterol', 'MaxHR', 'Oldpeak']"
      ]
     },
     "execution_count": 63,
     "metadata": {},
     "output_type": "execute_result"
    }
   ],
   "source": [
    "features.select_dtypes(exclude='object').columns.to_list()"
   ]
  },
  {
   "cell_type": "code",
   "execution_count": 64,
   "metadata": {},
   "outputs": [],
   "source": [
    "# Define Column types\n",
    "num_cols = features.select_dtypes(exclude='object').columns.to_list()\n",
    "cat_cols = features.select_dtypes(include='object').columns.to_list()\n",
    "# Define numerical transformer\n",
    "num_transformer = Pipeline(steps=[\n",
    "    ('scaler', StandardScaler())])\n",
    "# Define categorical transformer\n",
    "cat_transformer = Pipeline(steps=[\n",
    "    ('ordinal', OrdinalEncoder()),])\n",
    "# Combine preprocessing steps for both numerical and categorical data\n",
    "preprocessor = ColumnTransformer(\n",
    "    transformers=[\n",
    "        ('num', num_transformer, num_cols),\n",
    "        ('cat', cat_transformer, cat_cols)])\n",
    "# Fit and transform the data\n",
    "transformed_features_train = preprocessor.fit_transform(feature_train)"
   ]
  },
  {
   "cell_type": "code",
   "execution_count": 65,
   "metadata": {},
   "outputs": [],
   "source": [
    "# Transform the target\n",
    "target_train = target_train.replace({'No':0,'Yes':1})"
   ]
  },
  {
   "cell_type": "code",
   "execution_count": 66,
   "metadata": {},
   "outputs": [],
   "source": [
    "# Transform test set\n",
    "transformed_features_test = preprocessor.transform(feature_test)\n",
    "target_test = target_test.replace({'No':0,'Yes':1})"
   ]
  },
  {
   "cell_type": "markdown",
   "metadata": {},
   "source": [
    "## Model Building"
   ]
  },
  {
   "cell_type": "code",
   "execution_count": 68,
   "metadata": {},
   "outputs": [
    {
     "name": "stdout",
     "output_type": "stream",
     "text": [
      "              precision    recall  f1-score   support\n",
      "\n",
      "           0       0.87      0.86      0.86       312\n",
      "           1       0.85      0.86      0.85       284\n",
      "\n",
      "    accuracy                           0.86       596\n",
      "   macro avg       0.86      0.86      0.86       596\n",
      "weighted avg       0.86      0.86      0.86       596\n",
      "\n"
     ]
    }
   ],
   "source": [
    "# Import LogisticRegression\n",
    "from sklearn.linear_model import LogisticRegression\n",
    "# Instantiate baseline model\n",
    "baseline_model = LogisticRegression()\n",
    "# Fit the model to the training data\n",
    "baseline_model.fit(transformed_features_train, target_train)\n",
    "# Predict the train_set\n",
    "train_pred = baseline_model.predict(transformed_features_train)\n",
    "# Get the classification report of train set\n",
    "print(classification_report(target_train, train_pred))"
   ]
  },
  {
   "cell_type": "code",
   "execution_count": 69,
   "metadata": {},
   "outputs": [
    {
     "name": "stdout",
     "output_type": "stream",
     "text": [
      "              precision    recall  f1-score   support\n",
      "\n",
      "           0       0.83      0.82      0.83        78\n",
      "           1       0.81      0.82      0.81        72\n",
      "\n",
      "    accuracy                           0.82       150\n",
      "   macro avg       0.82      0.82      0.82       150\n",
      "weighted avg       0.82      0.82      0.82       150\n",
      "\n"
     ]
    }
   ],
   "source": [
    "# Get test prediction\n",
    "test_pred = baseline_model.predict(transformed_features_test)\n",
    "# Get the classification report of test set\n",
    "print(classification_report(target_test, test_pred))"
   ]
  },
  {
   "cell_type": "code",
   "execution_count": 77,
   "metadata": {},
   "outputs": [
    {
     "data": {
      "image/png": "[encoded data removed]",
      "text/plain": [
       "<Figure size 432x288 with 2 Axes>"
      ]
     },
     "metadata": {
      "needs_background": "light"
     },
     "output_type": "display_data"
    }
   ],
   "source": [
    "# Create a confuion_matrix plot for the baseline model\n",
    "sns.heatmap(confusion_matrix(target_test, test_pred), annot=True)\n",
    "# Show the plot\n",
    "plt.show()"
   ]
  },
  {
   "cell_type": "markdown",
   "metadata": {},
   "source": [
    "**Observation**\n",
    "* The baseline model had an accuracy of 86% on the train set\n",
    "* The baseline model had an accuracy of 82% on the test set\n",
    "* It can be seen that the baseline model had a high accuracy\n",
    "* The precision, recall and f1-score is very high, hence the model performs very well in predicting people with or without diabetes"
   ]
  },
  {
   "cell_type": "code",
   "execution_count": 70,
   "metadata": {},
   "outputs": [
    {
     "name": "stdout",
     "output_type": "stream",
     "text": [
      "              precision    recall  f1-score   support\n",
      "\n",
      "           0       1.00      1.00      1.00       312\n",
      "           1       1.00      1.00      1.00       284\n",
      "\n",
      "    accuracy                           1.00       596\n",
      "   macro avg       1.00      1.00      1.00       596\n",
      "weighted avg       1.00      1.00      1.00       596\n",
      "\n"
     ]
    }
   ],
   "source": [
    "# Import RandomForestClassifier\n",
    "from sklearn.ensemble import RandomForestClassifier\n",
    "# Instantiate Random Forest Classifier\n",
    "rf_classifier = RandomForestClassifier(n_estimators=100, random_state=42)\n",
    "\n",
    "# Fit the model to the training data\n",
    "rf_classifier.fit(transformed_features_train, target_train)\n",
    "\n",
    "# Make predictions on the test data\n",
    "rf_train_pred = rf_classifier.predict(transformed_features_train)\n",
    "# Get the classification report of train set\n",
    "print(classification_report(target_train, rf_train_pred))"
   ]
  },
  {
   "cell_type": "code",
   "execution_count": 71,
   "metadata": {},
   "outputs": [
    {
     "name": "stdout",
     "output_type": "stream",
     "text": [
      "              precision    recall  f1-score   support\n",
      "\n",
      "           0       0.86      0.86      0.86        78\n",
      "           1       0.85      0.85      0.85        72\n",
      "\n",
      "    accuracy                           0.85       150\n",
      "   macro avg       0.85      0.85      0.85       150\n",
      "weighted avg       0.85      0.85      0.85       150\n",
      "\n"
     ]
    }
   ],
   "source": [
    "# Get test prediction\n",
    "rf_test_pred = rf_classifier.predict(transformed_features_test)\n",
    "# Get the classification report of test set\n",
    "print(classification_report(target_test, rf_test_pred))"
   ]
  },
  {
   "cell_type": "code",
   "execution_count": 79,
   "metadata": {},
   "outputs": [
    {
     "data": {
      "image/png": "[encoded data removed]",
      "text/plain": [
       "<Figure size 432x288 with 2 Axes>"
      ]
     },
     "metadata": {
      "needs_background": "light"
     },
     "output_type": "display_data"
    }
   ],
   "source": [
    "# Create a confuion_matrix plot for the baseline model\n",
    "sns.heatmap(confusion_matrix(target_test, rf_test_pred), annot=True)\n",
    "# Show the plot\n",
    "plt.show()"
   ]
  },
  {
   "cell_type": "markdown",
   "metadata": {},
   "source": [
    "**Observation**\n",
    "* The Random Forest Classifier model had an accuracy of 100% on the train set.\n",
    "* The Random Forest Classifier model had an accuracy of 85% on the test set.\n",
    "* It can be seen that the Random Forest Classifier model had a high accuracy.\n",
    "* The precision, recall and f1-score is very high, hence the model performs very well in predicting people with or without diabetes.\n",
    "* The Random Forest Classifier model performed better than the baseline model."
   ]
  },
  {
   "cell_type": "code",
   "execution_count": 72,
   "metadata": {},
   "outputs": [
    {
     "name": "stdout",
     "output_type": "stream",
     "text": [
      "              precision    recall  f1-score   support\n",
      "\n",
      "           0       0.97      0.96      0.97       312\n",
      "           1       0.96      0.97      0.96       284\n",
      "\n",
      "    accuracy                           0.96       596\n",
      "   macro avg       0.96      0.97      0.96       596\n",
      "weighted avg       0.96      0.96      0.96       596\n",
      "\n"
     ]
    }
   ],
   "source": [
    "# Import Gradient Boosting Classifier\n",
    "from sklearn.ensemble import GradientBoostingClassifier\n",
    "# Instantiate the Gradient Boosting Classifier\n",
    "gb_classifier = GradientBoostingClassifier(n_estimators=100, random_state=42)\n",
    "# Fit the model to the training data\n",
    "gb_classifier.fit(transformed_features_train, target_train)\n",
    "\n",
    "# Make predictions on the test data\n",
    "gb_train_pred = gb_classifier.predict(transformed_features_train)\n",
    "# Get the classification report of train set\n",
    "print(classification_report(target_train, gb_train_pred))"
   ]
  },
  {
   "cell_type": "code",
   "execution_count": 73,
   "metadata": {},
   "outputs": [
    {
     "name": "stdout",
     "output_type": "stream",
     "text": [
      "              precision    recall  f1-score   support\n",
      "\n",
      "           0       0.88      0.83      0.86        78\n",
      "           1       0.83      0.88      0.85        72\n",
      "\n",
      "    accuracy                           0.85       150\n",
      "   macro avg       0.85      0.85      0.85       150\n",
      "weighted avg       0.85      0.85      0.85       150\n",
      "\n"
     ]
    }
   ],
   "source": [
    "# Get test prediction\n",
    "gb_test_pred = gb_classifier.predict(transformed_features_test)\n",
    "# Get the classification report of test set\n",
    "print(classification_report(target_test, gb_test_pred))"
   ]
  },
  {
   "cell_type": "code",
   "execution_count": 78,
   "metadata": {},
   "outputs": [
    {
     "data": {
      "image/png": "[encoded data removed]",
      "text/plain": [
       "<Figure size 432x288 with 2 Axes>"
      ]
     },
     "metadata": {
      "needs_background": "light"
     },
     "output_type": "display_data"
    }
   ],
   "source": [
    "# Create a confuion_matrix plot for the baseline model\n",
    "sns.heatmap(confusion_matrix(target_test, gb_test_pred), annot=True)\n",
    "# Show the plot\n",
    "plt.show()"
   ]
  },
  {
   "cell_type": "markdown",
   "metadata": {},
   "source": [
    "**Observation**\n",
    "* The Gradient Boosting Classifier model had an accuracy of 97% on the train set.\n",
    "* The Gradient Boosting Classifier model had an accuracy of 85% on the test set.\n",
    "* It can be seen that the Gradient Boosting Classifier model had a high accuracy.\n",
    "* The precision, recall and f1-score is very high, hence the model performs very well in predicting people with or without heart diseases.\n",
    "* The Gradient Boosting Classifier model performed better than the baseline model."
   ]
  },
  {
   "cell_type": "code",
   "execution_count": 74,
   "metadata": {},
   "outputs": [
    {
     "name": "stdout",
     "output_type": "stream",
     "text": [
      "              precision    recall  f1-score   support\n",
      "\n",
      "           0       1.00      1.00      1.00       312\n",
      "           1       1.00      1.00      1.00       284\n",
      "\n",
      "    accuracy                           1.00       596\n",
      "   macro avg       1.00      1.00      1.00       596\n",
      "weighted avg       1.00      1.00      1.00       596\n",
      "\n"
     ]
    }
   ],
   "source": [
    "# Import XGBClassifier\n",
    "from xgboost import XGBClassifier\n",
    "# Instantiate XGBoost Classifier\n",
    "xgb_classifier = XGBClassifier(n_estimators=100, random_state=42)\n",
    "# Fit the model to the training data\n",
    "xgb_classifier.fit(transformed_features_train, target_train)\n",
    "# Make predictions on the test data\n",
    "xgb_train_pred = xgb_classifier.predict(transformed_features_train)\n",
    "# Get the classification report of train set\n",
    "print(classification_report(target_train, xgb_train_pred))"
   ]
  },
  {
   "cell_type": "code",
   "execution_count": 75,
   "metadata": {},
   "outputs": [
    {
     "name": "stdout",
     "output_type": "stream",
     "text": [
      "              precision    recall  f1-score   support\n",
      "\n",
      "           0       0.84      0.82      0.83        78\n",
      "           1       0.81      0.83      0.82        72\n",
      "\n",
      "    accuracy                           0.83       150\n",
      "   macro avg       0.83      0.83      0.83       150\n",
      "weighted avg       0.83      0.83      0.83       150\n",
      "\n"
     ]
    }
   ],
   "source": [
    "# Get test prediction\n",
    "xgb_test_pred = xgb_classifier.predict(transformed_features_test)\n",
    "# Get the classification report of test set\n",
    "print(classification_report(target_test, xgb_test_pred))"
   ]
  },
  {
   "cell_type": "code",
   "execution_count": 80,
   "metadata": {},
   "outputs": [
    {
     "data": {
      "image/png": "[encoded data removed]",
      "text/plain": [
       "<Figure size 432x288 with 2 Axes>"
      ]
     },
     "metadata": {
      "needs_background": "light"
     },
     "output_type": "display_data"
    }
   ],
   "source": [
    "# Create a confuion_matrix plot for the baseline model\n",
    "sns.heatmap(confusion_matrix(target_test, xgb_test_pred), annot=True)\n",
    "# Show the plot\n",
    "plt.show()"
   ]
  },
  {
   "cell_type": "markdown",
   "metadata": {},
   "source": [
    "**Observation**\n",
    "* The XGBoost Classifier model had an accuracy of 100% on the train set.\n",
    "* The XGBoost Classifier model had an accuracy of 83% on the test set.\n",
    "* It can be seen that the XGBoost Classifier model had a high accuracy.\n",
    "* The precision, recall and f1-score is very high, hence the model performs very well in predicting people with or without heart diseases.\n",
    "* The XGBoost Classifier model performed better than the baseline model."
   ]
  },
  {
   "cell_type": "markdown",
   "metadata": {},
   "source": [
    "**Note**\n",
    "* Gradient Boosting Classifier and Random Forest Classifier are the two best in predicting heart disease hence we choose the best model from the cross validation as the model for deployment"
   ]
  },
  {
   "cell_type": "markdown",
   "metadata": {},
   "source": [
    "## Cross Validation"
   ]
  },
  {
   "cell_type": "markdown",
   "metadata": {},
   "source": [
    "#### Cross Validation For Gradient Boosting Classifier"
   ]
  },
  {
   "cell_type": "code",
   "execution_count": 87,
   "metadata": {},
   "outputs": [
    {
     "name": "stdout",
     "output_type": "stream",
     "text": [
      "              precision    recall  f1-score   support\n",
      "\n",
      "           0       0.85      0.84      0.84       390\n",
      "           1       0.83      0.83      0.83       356\n",
      "\n",
      "    accuracy                           0.84       746\n",
      "   macro avg       0.84      0.84      0.84       746\n",
      "weighted avg       0.84      0.84      0.84       746\n",
      "\n"
     ]
    }
   ],
   "source": [
    "# Preprocess the entire dataset\n",
    "features_preprocessed = preprocessor.transform(features)\n",
    "target_transformed = target.replace({'No':0,'Yes':1})\n",
    "# Import Cross_val_predict\n",
    "from sklearn.model_selection import cross_val_predict\n",
    "# Perform cross-validated predictions\n",
    "gb_validated_pred = cross_val_predict(gb_classifier, features_preprocessed, target_transformed, cv=5)\n",
    "# create classification report\n",
    "print(classification_report(target_transformed, gb_validated_pred))"
   ]
  },
  {
   "cell_type": "code",
   "execution_count": 88,
   "metadata": {},
   "outputs": [
    {
     "data": {
      "image/png": "[encoded data removed]",
      "text/plain": [
       "<Figure size 432x288 with 2 Axes>"
      ]
     },
     "metadata": {
      "needs_background": "light"
     },
     "output_type": "display_data"
    }
   ],
   "source": [
    "# Create a confuion_matrix plot for the baseline model\n",
    "sns.heatmap(confusion_matrix(target_transformed, gb_validated_pred), annot=True)\n",
    "# Show the plot\n",
    "plt.show()"
   ]
  },
  {
   "cell_type": "markdown",
   "metadata": {},
   "source": [
    "#### Cross Validation For Random Forest Classifier"
   ]
  },
  {
   "cell_type": "code",
   "execution_count": 89,
   "metadata": {},
   "outputs": [
    {
     "name": "stdout",
     "output_type": "stream",
     "text": [
      "              precision    recall  f1-score   support\n",
      "\n",
      "           0       0.87      0.86      0.87       390\n",
      "           1       0.85      0.87      0.86       356\n",
      "\n",
      "    accuracy                           0.86       746\n",
      "   macro avg       0.86      0.86      0.86       746\n",
      "weighted avg       0.86      0.86      0.86       746\n",
      "\n"
     ]
    }
   ],
   "source": [
    "# Perform cross-validated predictions\n",
    "rf_validated_pred = cross_val_predict(rf_classifier, features_preprocessed, target_transformed, cv=5)\n",
    "# create classification report\n",
    "print(classification_report(target_transformed, rf_validated_pred))"
   ]
  },
  {
   "cell_type": "code",
   "execution_count": 90,
   "metadata": {},
   "outputs": [
    {
     "data": {
      "image/png": "[encoded data removed]",
      "text/plain": [
       "<Figure size 432x288 with 2 Axes>"
      ]
     },
     "metadata": {
      "needs_background": "light"
     },
     "output_type": "display_data"
    }
   ],
   "source": [
    "# Create a confuion_matrix plot for the baseline model\n",
    "sns.heatmap(confusion_matrix(target_transformed, rf_validated_pred), annot=True)\n",
    "# Show the plot\n",
    "plt.show()"
   ]
  },
  {
   "cell_type": "markdown",
   "metadata": {},
   "source": [
    "**Note**\n",
    "* RandomForest Classifier is the best model and hence it will be used for the model deployment."
   ]
  },
  {
   "cell_type": "markdown",
   "metadata": {},
   "source": [
    "## Extract Model and Preprocessor"
   ]
  },
  {
   "cell_type": "code",
   "execution_count": 92,
   "metadata": {},
   "outputs": [],
   "source": [
    "import pickle\n",
    "\n",
    "# Assuming your model is named gb_classifier and your preprocessor is named preprocessor\n",
    "\n",
    "# Save the trained model to a file\n",
    "with open('model.pkl', 'wb') as f:\n",
    "    pickle.dump(rf_classifier, f)\n",
    "\n",
    "# Save the preprocessor to a file\n",
    "with open('preprocessor.pkl', 'wb') as f:\n",
    "    pickle.dump(preprocessor, f)"
   ]
  },
  {
   "cell_type": "code",
   "execution_count": null,
   "metadata": {},
   "outputs": [],
   "source": []
  }
 ],
 "metadata": {
  "kernelspec": {
   "display_name": "Python 3",
   "language": "python",
   "name": "python3"
  },
  "language_info": {
   "codemirror_mode": {
    "name": "ipython",
    "version": 3
   },
   "file_extension": ".py",
   "mimetype": "text/x-python",
   "name": "python",
   "nbconvert_exporter": "python",
   "pygments_lexer": "ipython3",
   "version": "3.8.3"
  }
 },
 "nbformat": 4,
 "nbformat_minor": 4
}
